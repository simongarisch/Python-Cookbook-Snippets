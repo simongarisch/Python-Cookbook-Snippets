{
 "cells": [
  {
   "cell_type": "markdown",
   "metadata": {},
   "source": [
    "# 6 - Data Encoding and Processing"
   ]
  },
  {
   "cell_type": "markdown",
   "metadata": {},
   "source": [
    "## Reading and Writing CSV Data"
   ]
  },
  {
   "cell_type": "code",
   "execution_count": 1,
   "metadata": {},
   "outputs": [
    {
     "data": {
      "text/html": [
       "<div>\n",
       "<style scoped>\n",
       "    .dataframe tbody tr th:only-of-type {\n",
       "        vertical-align: middle;\n",
       "    }\n",
       "\n",
       "    .dataframe tbody tr th {\n",
       "        vertical-align: top;\n",
       "    }\n",
       "\n",
       "    .dataframe thead th {\n",
       "        text-align: right;\n",
       "    }\n",
       "</style>\n",
       "<table border=\"1\" class=\"dataframe\">\n",
       "  <thead>\n",
       "    <tr style=\"text-align: right;\">\n",
       "      <th></th>\n",
       "      <th>A</th>\n",
       "      <th>B</th>\n",
       "      <th>C</th>\n",
       "      <th>D</th>\n",
       "    </tr>\n",
       "  </thead>\n",
       "  <tbody>\n",
       "    <tr>\n",
       "      <th>0</th>\n",
       "      <td>0.578421</td>\n",
       "      <td>1.213620</td>\n",
       "      <td>-0.732249</td>\n",
       "      <td>-2.849113</td>\n",
       "    </tr>\n",
       "    <tr>\n",
       "      <th>1</th>\n",
       "      <td>0.075960</td>\n",
       "      <td>0.735471</td>\n",
       "      <td>-0.245389</td>\n",
       "      <td>0.982651</td>\n",
       "    </tr>\n",
       "    <tr>\n",
       "      <th>2</th>\n",
       "      <td>1.146799</td>\n",
       "      <td>1.763106</td>\n",
       "      <td>1.404748</td>\n",
       "      <td>-1.197465</td>\n",
       "    </tr>\n",
       "    <tr>\n",
       "      <th>3</th>\n",
       "      <td>-1.060406</td>\n",
       "      <td>-1.082608</td>\n",
       "      <td>1.003626</td>\n",
       "      <td>-0.990171</td>\n",
       "    </tr>\n",
       "    <tr>\n",
       "      <th>4</th>\n",
       "      <td>-0.428314</td>\n",
       "      <td>-1.117124</td>\n",
       "      <td>0.784250</td>\n",
       "      <td>-0.434769</td>\n",
       "    </tr>\n",
       "  </tbody>\n",
       "</table>\n",
       "</div>"
      ],
      "text/plain": [
       "          A         B         C         D\n",
       "0  0.578421  1.213620 -0.732249 -2.849113\n",
       "1  0.075960  0.735471 -0.245389  0.982651\n",
       "2  1.146799  1.763106  1.404748 -1.197465\n",
       "3 -1.060406 -1.082608  1.003626 -0.990171\n",
       "4 -0.428314 -1.117124  0.784250 -0.434769"
      ]
     },
     "execution_count": 1,
     "metadata": {},
     "output_type": "execute_result"
    }
   ],
   "source": [
    "import pandas as pd\n",
    "import numpy as np\n",
    "\n",
    "df = pd.DataFrame(np.random.randn(5, 4), columns=list(\"ABCD\"))\n",
    "df"
   ]
  },
  {
   "cell_type": "code",
   "execution_count": 3,
   "metadata": {},
   "outputs": [],
   "source": [
    "file_name = \"test_data.csv\"\n",
    "\n",
    "df.to_csv(file_name)"
   ]
  },
  {
   "cell_type": "code",
   "execution_count": 4,
   "metadata": {},
   "outputs": [
    {
     "data": {
      "text/plain": [
       "True"
      ]
     },
     "execution_count": 4,
     "metadata": {},
     "output_type": "execute_result"
    }
   ],
   "source": [
    "import os\n",
    "\n",
    "os.path.isfile(file_name)"
   ]
  },
  {
   "cell_type": "code",
   "execution_count": 5,
   "metadata": {},
   "outputs": [
    {
     "data": {
      "text/html": [
       "<div>\n",
       "<style scoped>\n",
       "    .dataframe tbody tr th:only-of-type {\n",
       "        vertical-align: middle;\n",
       "    }\n",
       "\n",
       "    .dataframe tbody tr th {\n",
       "        vertical-align: top;\n",
       "    }\n",
       "\n",
       "    .dataframe thead th {\n",
       "        text-align: right;\n",
       "    }\n",
       "</style>\n",
       "<table border=\"1\" class=\"dataframe\">\n",
       "  <thead>\n",
       "    <tr style=\"text-align: right;\">\n",
       "      <th></th>\n",
       "      <th>Unnamed: 0</th>\n",
       "      <th>A</th>\n",
       "      <th>B</th>\n",
       "      <th>C</th>\n",
       "      <th>D</th>\n",
       "    </tr>\n",
       "  </thead>\n",
       "  <tbody>\n",
       "    <tr>\n",
       "      <th>0</th>\n",
       "      <td>0</td>\n",
       "      <td>0.578421</td>\n",
       "      <td>1.213620</td>\n",
       "      <td>-0.732249</td>\n",
       "      <td>-2.849113</td>\n",
       "    </tr>\n",
       "    <tr>\n",
       "      <th>1</th>\n",
       "      <td>1</td>\n",
       "      <td>0.075960</td>\n",
       "      <td>0.735471</td>\n",
       "      <td>-0.245389</td>\n",
       "      <td>0.982651</td>\n",
       "    </tr>\n",
       "    <tr>\n",
       "      <th>2</th>\n",
       "      <td>2</td>\n",
       "      <td>1.146799</td>\n",
       "      <td>1.763106</td>\n",
       "      <td>1.404748</td>\n",
       "      <td>-1.197465</td>\n",
       "    </tr>\n",
       "    <tr>\n",
       "      <th>3</th>\n",
       "      <td>3</td>\n",
       "      <td>-1.060406</td>\n",
       "      <td>-1.082608</td>\n",
       "      <td>1.003626</td>\n",
       "      <td>-0.990171</td>\n",
       "    </tr>\n",
       "    <tr>\n",
       "      <th>4</th>\n",
       "      <td>4</td>\n",
       "      <td>-0.428314</td>\n",
       "      <td>-1.117124</td>\n",
       "      <td>0.784250</td>\n",
       "      <td>-0.434769</td>\n",
       "    </tr>\n",
       "  </tbody>\n",
       "</table>\n",
       "</div>"
      ],
      "text/plain": [
       "   Unnamed: 0         A         B         C         D\n",
       "0           0  0.578421  1.213620 -0.732249 -2.849113\n",
       "1           1  0.075960  0.735471 -0.245389  0.982651\n",
       "2           2  1.146799  1.763106  1.404748 -1.197465\n",
       "3           3 -1.060406 -1.082608  1.003626 -0.990171\n",
       "4           4 -0.428314 -1.117124  0.784250 -0.434769"
      ]
     },
     "execution_count": 5,
     "metadata": {},
     "output_type": "execute_result"
    }
   ],
   "source": [
    "dfr = pd.read_csv(file_name)\n",
    "dfr"
   ]
  },
  {
   "cell_type": "markdown",
   "metadata": {},
   "source": [
    "pandas provides a clean way to read and write csv files. Alternatively..."
   ]
  },
  {
   "cell_type": "code",
   "execution_count": 6,
   "metadata": {},
   "outputs": [
    {
     "name": "stdout",
     "output_type": "stream",
     "text": [
      "['0', '0.5784206468336923', '1.2136204592697122', '-0.7322489731430893', '-2.84911273983835']\n",
      "['1', '0.07596047207284655', '0.7354709000827151', '-0.2453891691302662', '0.9826508560764818']\n",
      "['2', '1.146799123292891', '1.763105869585345', '1.404748156315179', '-1.1974647197868011']\n",
      "['3', '-1.0604061326077359', '-1.0826079764500174', '1.0036262065245922', '-0.9901708378243262']\n",
      "['4', '-0.42831386072217076', '-1.1171242932657632', '0.7842497569749508', '-0.43476896864505865']\n"
     ]
    }
   ],
   "source": [
    "import csv\n",
    "\n",
    "with open(file_name) as f:\n",
    "    f_csv = csv.reader(f)\n",
    "    headers = next(f_csv)\n",
    "    for row in f_csv:\n",
    "        print(row)\n"
   ]
  },
  {
   "cell_type": "code",
   "execution_count": 7,
   "metadata": {},
   "outputs": [
    {
     "data": {
      "text/plain": [
       "['', 'A', 'B', 'C', 'D']"
      ]
     },
     "execution_count": 7,
     "metadata": {},
     "output_type": "execute_result"
    }
   ],
   "source": [
    "headers"
   ]
  },
  {
   "cell_type": "markdown",
   "metadata": {},
   "source": [
    "A nice and clean way to read the data..."
   ]
  },
  {
   "cell_type": "code",
   "execution_count": 14,
   "metadata": {},
   "outputs": [],
   "source": [
    "from collections import namedtuple\n",
    "\n",
    "rows = []\n",
    "with open(file_name) as f:\n",
    "    f_csv = csv.reader(f)\n",
    "    headings = next(f_csv)\n",
    "    headings[0] = \"index\"\n",
    "    Row = namedtuple('Row', headings)\n",
    "    for r in f_csv:\n",
    "        row = Row(*r)\n",
    "        rows.append(row)\n"
   ]
  },
  {
   "cell_type": "code",
   "execution_count": 16,
   "metadata": {},
   "outputs": [
    {
     "data": {
      "text/plain": [
       "Row(index='0', A='0.5784206468336923', B='1.2136204592697122', C='-0.7322489731430893', D='-2.84911273983835')"
      ]
     },
     "execution_count": 16,
     "metadata": {},
     "output_type": "execute_result"
    }
   ],
   "source": [
    "row = rows[0]\n",
    "row"
   ]
  },
  {
   "cell_type": "code",
   "execution_count": 18,
   "metadata": {},
   "outputs": [
    {
     "data": {
      "text/plain": [
       "('0.5784206468336923', '1.2136204592697122')"
      ]
     },
     "execution_count": 18,
     "metadata": {},
     "output_type": "execute_result"
    }
   ],
   "source": [
    "row.A, row.B"
   ]
  },
  {
   "cell_type": "code",
   "execution_count": 20,
   "metadata": {},
   "outputs": [],
   "source": [
    "import csv\n",
    "\n",
    "rows = []\n",
    "with open(file_name) as f:\n",
    "    f_csv = csv.DictReader(f)\n",
    "    for row in f_csv:\n",
    "        rows.append(row)\n"
   ]
  },
  {
   "cell_type": "code",
   "execution_count": 21,
   "metadata": {},
   "outputs": [
    {
     "data": {
      "text/plain": [
       "[OrderedDict([('', '0'),\n",
       "              ('A', '0.5784206468336923'),\n",
       "              ('B', '1.2136204592697122'),\n",
       "              ('C', '-0.7322489731430893'),\n",
       "              ('D', '-2.84911273983835')]),\n",
       " OrderedDict([('', '1'),\n",
       "              ('A', '0.07596047207284655'),\n",
       "              ('B', '0.7354709000827151'),\n",
       "              ('C', '-0.2453891691302662'),\n",
       "              ('D', '0.9826508560764818')]),\n",
       " OrderedDict([('', '2'),\n",
       "              ('A', '1.146799123292891'),\n",
       "              ('B', '1.763105869585345'),\n",
       "              ('C', '1.404748156315179'),\n",
       "              ('D', '-1.1974647197868011')]),\n",
       " OrderedDict([('', '3'),\n",
       "              ('A', '-1.0604061326077359'),\n",
       "              ('B', '-1.0826079764500174'),\n",
       "              ('C', '1.0036262065245922'),\n",
       "              ('D', '-0.9901708378243262')]),\n",
       " OrderedDict([('', '4'),\n",
       "              ('A', '-0.42831386072217076'),\n",
       "              ('B', '-1.1171242932657632'),\n",
       "              ('C', '0.7842497569749508'),\n",
       "              ('D', '-0.43476896864505865')])]"
      ]
     },
     "execution_count": 21,
     "metadata": {},
     "output_type": "execute_result"
    }
   ],
   "source": [
    "rows"
   ]
  },
  {
   "cell_type": "code",
   "execution_count": 23,
   "metadata": {},
   "outputs": [
    {
     "data": {
      "text/plain": [
       "'0.5784206468336923'"
      ]
     },
     "execution_count": 23,
     "metadata": {},
     "output_type": "execute_result"
    }
   ],
   "source": [
    "rows[0][\"A\"]"
   ]
  },
  {
   "cell_type": "code",
   "execution_count": 24,
   "metadata": {},
   "outputs": [
    {
     "data": {
      "text/plain": [
       "'1.2136204592697122'"
      ]
     },
     "execution_count": 24,
     "metadata": {},
     "output_type": "execute_result"
    }
   ],
   "source": [
    "rows[0][\"B\"]"
   ]
  },
  {
   "cell_type": "markdown",
   "metadata": {},
   "source": [
    "## Reading and Writing JSON Data"
   ]
  },
  {
   "cell_type": "code",
   "execution_count": null,
   "metadata": {},
   "outputs": [],
   "source": []
  }
 ],
 "metadata": {
  "@webio": {
   "lastCommId": null,
   "lastKernelId": null
  },
  "kernelspec": {
   "display_name": "py36",
   "language": "python",
   "name": "py36"
  },
  "language_info": {
   "codemirror_mode": {
    "name": "ipython",
    "version": 3
   },
   "file_extension": ".py",
   "mimetype": "text/x-python",
   "name": "python",
   "nbconvert_exporter": "python",
   "pygments_lexer": "ipython3",
   "version": "3.6.6"
  }
 },
 "nbformat": 4,
 "nbformat_minor": 2
}
