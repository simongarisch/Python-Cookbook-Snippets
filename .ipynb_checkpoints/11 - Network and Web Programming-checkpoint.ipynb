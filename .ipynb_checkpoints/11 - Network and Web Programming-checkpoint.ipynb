{
 "cells": [
  {
   "cell_type": "markdown",
   "metadata": {},
   "source": [
    "# 11 - Network and Web Programming\n",
    "##  Interacting with HTTP Services As a Client"
   ]
  },
  {
   "cell_type": "code",
   "execution_count": 1,
   "metadata": {},
   "outputs": [],
   "source": [
    "from urllib import request, parse\n",
    "# base URL being accessed\n",
    "url = 'http://httpbin.org/get'\n",
    "\n",
    "# dictionary of query parameters (if any)\n",
    "parms = {\n",
    " 'name1' : 'value1',\n",
    " 'name2' : 'value2'\n",
    "}\n",
    "\n",
    "# encode the query string\n",
    "querystring = parse.urlencode(parms)\n",
    "\n",
    "# make a GET request and read the response\n",
    "u = request.urlopen(url+'?' + querystring)\n",
    "resp = u.read()"
   ]
  },
  {
   "cell_type": "code",
   "execution_count": 2,
   "metadata": {},
   "outputs": [
    {
     "data": {
      "text/plain": [
       "b'{\\n  \"args\": {\\n    \"name1\": \"value1\", \\n    \"name2\": \"value2\"\\n  }, \\n  \"headers\": {\\n    \"Accept-Encoding\": \"identity\", \\n    \"Cache-Control\": \"max-stale=0\", \\n    \"Host\": \"httpbin.org\", \\n    \"Pragma\": \"no-cache\", \\n    \"User-Agent\": \"Python-urllib/3.6\", \\n    \"X-Bluecoat-Via\": \"bf230bf50769438e\"\\n  }, \\n  \"origin\": \"101.164.72.225, 148.64.2.62, 101.164.72.225\", \\n  \"url\": \"https://httpbin.org/get?name1=value1&name2=value2\"\\n}\\n'"
      ]
     },
     "execution_count": 2,
     "metadata": {},
     "output_type": "execute_result"
    }
   ],
   "source": [
    "resp"
   ]
  },
  {
   "cell_type": "markdown",
   "metadata": {},
   "source": [
    "There is also the requests library."
   ]
  },
  {
   "cell_type": "code",
   "execution_count": 3,
   "metadata": {},
   "outputs": [
    {
     "data": {
      "text/plain": [
       "'{\\n  \"args\": {}, \\n  \"data\": \"\", \\n  \"files\": {}, \\n  \"form\": {\\n    \"name1\": \"value1\", \\n    \"name2\": \"value2\"\\n  }, \\n  \"headers\": {\\n    \"Accept\": \"*/*\", \\n    \"Accept-Encoding\": \"gzip, deflate\", \\n    \"Content-Length\": \"25\", \\n    \"Content-Type\": \"application/x-www-form-urlencoded\", \\n    \"Host\": \"httpbin.org\", \\n    \"Spam\": \"Eggs\", \\n    \"User-Agent\": \"none/ofyourbusiness\", \\n    \"X-Bluecoat-Via\": \"bf230bf50769438e\"\\n  }, \\n  \"json\": null, \\n  \"origin\": \"101.164.72.225, 148.64.2.62, 101.164.72.225\", \\n  \"url\": \"https://httpbin.org/post\"\\n}\\n'"
      ]
     },
     "execution_count": 3,
     "metadata": {},
     "output_type": "execute_result"
    }
   ],
   "source": [
    "import requests\n",
    "\n",
    "url = 'http://httpbin.org/post'\n",
    "\n",
    "parms = {\n",
    " 'name1' : 'value1',\n",
    " 'name2' : 'value2'\n",
    "}\n",
    "\n",
    "headers = {\n",
    " 'User-agent' : 'none/ofyourbusiness',\n",
    " 'Spam' : 'Eggs'\n",
    "}\n",
    "\n",
    "resp = requests.post(url, data=parms, headers=headers)\n",
    "text = resp.text\n",
    "text"
   ]
  },
  {
   "cell_type": "markdown",
   "metadata": {},
   "source": [
    "We can extract a few fields..."
   ]
  },
  {
   "cell_type": "code",
   "execution_count": 5,
   "metadata": {},
   "outputs": [
    {
     "data": {
      "text/plain": [
       "301"
      ]
     },
     "execution_count": 5,
     "metadata": {},
     "output_type": "execute_result"
    }
   ],
   "source": [
    "import requests\n",
    "\n",
    "resp = requests.head('http://www.python.org/index.html')\n",
    "status = resp.status_code\n",
    "\n",
    "status"
   ]
  },
  {
   "cell_type": "code",
   "execution_count": 7,
   "metadata": {},
   "outputs": [
    {
     "data": {
      "text/plain": [
       "{'Server': 'Varnish', 'Retry-After': '0', 'Location': 'https://www.python.org/index.html', 'Content-Length': '0', 'Accept-Ranges': 'bytes', 'Date': 'Sat, 13 Jul 2019 20:37:13 GMT', 'Via': '1.1 varnish', 'X-Served-By': 'cache-syd18928-SYD', 'X-Cache': 'HIT', 'X-Cache-Hits': '0', 'X-Timer': 'S1563050233.470523,VS0,VE0', 'Strict-Transport-Security': 'max-age=63072000; includeSubDomains', 'Connection': 'close'}"
      ]
     },
     "execution_count": 7,
     "metadata": {},
     "output_type": "execute_result"
    }
   ],
   "source": [
    "resp.headers"
   ]
  },
  {
   "cell_type": "code",
   "execution_count": 10,
   "metadata": {},
   "outputs": [],
   "source": [
    "location = resp.headers['Location']\n",
    "content_length = resp.headers['Content-Length']\n",
    "accept_ranges = resp.headers['Accept-Ranges']"
   ]
  },
  {
   "cell_type": "code",
   "execution_count": 11,
   "metadata": {},
   "outputs": [
    {
     "data": {
      "text/plain": [
       "'https://www.python.org/index.html'"
      ]
     },
     "execution_count": 11,
     "metadata": {},
     "output_type": "execute_result"
    }
   ],
   "source": [
    "location"
   ]
  },
  {
   "cell_type": "markdown",
   "metadata": {},
   "source": [
    "We could login..."
   ]
  },
  {
   "cell_type": "code",
   "execution_count": null,
   "metadata": {},
   "outputs": [],
   "source": [
    "import requests\n",
    "resp = requests.get('http://pypi.python.org/pypi?:action=login', auth=('user','password'))\n"
   ]
  },
  {
   "cell_type": "markdown",
   "metadata": {},
   "source": [
    "## Creating a TCP Server"
   ]
  },
  {
   "cell_type": "code",
   "execution_count": null,
   "metadata": {},
   "outputs": [],
   "source": []
  }
 ],
 "metadata": {
  "kernelspec": {
   "display_name": "py36",
   "language": "python",
   "name": "py36"
  },
  "language_info": {
   "codemirror_mode": {
    "name": "ipython",
    "version": 3
   },
   "file_extension": ".py",
   "mimetype": "text/x-python",
   "name": "python",
   "nbconvert_exporter": "python",
   "pygments_lexer": "ipython3",
   "version": "3.6.6"
  }
 },
 "nbformat": 4,
 "nbformat_minor": 2
}
