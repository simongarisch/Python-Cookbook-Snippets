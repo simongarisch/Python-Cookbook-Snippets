{
 "cells": [
  {
   "cell_type": "markdown",
   "metadata": {},
   "source": [
    "# 13 - Utility Scripting and System Administration"
   ]
  },
  {
   "cell_type": "markdown",
   "metadata": {},
   "source": [
    "##  Parsing Command-Line Options\n"
   ]
  },
  {
   "cell_type": "code",
   "execution_count": 4,
   "metadata": {},
   "outputs": [],
   "source": [
    "code = \"\"\"\n",
    "import argparse\n",
    "\n",
    "parser = argparse.ArgumentParser(description='Search some files')\n",
    "\n",
    "parser.add_argument(dest='filenames',metavar='filename', nargs='*')\n",
    "\n",
    "parser.add_argument('-p', '--pat',metavar='pattern', required=True, \n",
    "                          dest='patterns', action='append',\n",
    "                          help='text pattern to search for')\n",
    "\n",
    "parser.add_argument('-v', dest='verbose', action='store_true', help='verbose mode')\n",
    "\n",
    "parser.add_argument('-o', dest='outfile', action='store', help='output file')\n",
    "\n",
    "parser.add_argument('--speed', dest='speed', action='store',\n",
    "                               choices={'slow','fast'}, default='slow',\n",
    "                               help='search speed')\n",
    "\n",
    "args = parser.parse_args()\n",
    "\n",
    "print(args.filenames)\n",
    "print(args.patterns)\n",
    "print(args.verbose)\n",
    "print(args.outfile)\n",
    "print(args.speed)\n",
    "\"\"\"\n",
    "\n",
    "file_name = \"search.py\"\n",
    "\n",
    "with open(file_name, \"w\") as target_file:\n",
    "    target_file.write(code)\n"
   ]
  },
  {
   "cell_type": "code",
   "execution_count": 5,
   "metadata": {},
   "outputs": [
    {
     "name": "stdout",
     "output_type": "stream",
     "text": [
      "usage: search.py [-h] -p pattern [-v] [-o OUTFILE] [--speed {slow,fast}]\n",
      "                 [filename [filename ...]]\n",
      "\n",
      "Search some files\n",
      "\n",
      "positional arguments:\n",
      "  filename\n",
      "\n",
      "optional arguments:\n",
      "  -h, --help            show this help message and exit\n",
      "  -p pattern, --pat pattern\n",
      "                        text pattern to search for\n",
      "  -v                    verbose mode\n",
      "  -o OUTFILE            output file\n",
      "  --speed {slow,fast}   search speed\n"
     ]
    }
   ],
   "source": [
    "! python search.py -h"
   ]
  },
  {
   "cell_type": "markdown",
   "metadata": {},
   "source": [
    "The argparse module is one of the largest modules in the standard library, and has a huge number of configuration options."
   ]
  },
  {
   "cell_type": "markdown",
   "metadata": {},
   "source": [
    "## Prompting for a Password at Runtime\n",
    "Python’s getpass module is precisely what you need in this situation."
   ]
  },
  {
   "cell_type": "code",
   "execution_count": 22,
   "metadata": {},
   "outputs": [
    {
     "name": "stdout",
     "output_type": "stream",
     "text": [
      "········\n",
      "Boo!\n"
     ]
    }
   ],
   "source": [
    "import getpass\n",
    "user = getpass.getuser()\n",
    "passwd = getpass.getpass()\n",
    "\n",
    "\n",
    "def svc_login(user, passwd):\n",
    "    if user == \"Simon\" and passwd==\"myStrongPassword\":\n",
    "        return True\n",
    "    else:\n",
    "        return False\n",
    "\n",
    "if svc_login(user, passwd): # You must write svc_login()\n",
    "    print('Yay!')\n",
    "else:\n",
    "    print('Boo!')\n"
   ]
  },
  {
   "cell_type": "markdown",
   "metadata": {},
   "source": [
    "The username is already populated for you, but the password has to be entered."
   ]
  },
  {
   "cell_type": "code",
   "execution_count": 18,
   "metadata": {},
   "outputs": [
    {
     "name": "stdout",
     "output_type": "stream",
     "text": [
      "You entered: simon.garisch\n"
     ]
    }
   ],
   "source": [
    "import getpass\n",
    "\n",
    "u = getpass.getuser()\n",
    "print('You entered:', u)"
   ]
  },
  {
   "cell_type": "code",
   "execution_count": 20,
   "metadata": {},
   "outputs": [
    {
     "name": "stdout",
     "output_type": "stream",
     "text": [
      "········\n",
      "You entered: myStrongPassword\n"
     ]
    }
   ],
   "source": [
    "import getpass\n",
    "\n",
    "p = getpass.getpass()\n",
    "print('You entered:', p)"
   ]
  },
  {
   "cell_type": "markdown",
   "metadata": {},
   "source": [
    "## Getting the Terminal Size\n"
   ]
  },
  {
   "cell_type": "code",
   "execution_count": 24,
   "metadata": {},
   "outputs": [
    {
     "data": {
      "text/plain": [
       "os.terminal_size(columns=120, lines=30)"
      ]
     },
     "execution_count": 24,
     "metadata": {},
     "output_type": "execute_result"
    }
   ],
   "source": [
    "import os\n",
    "\n",
    "sz = os.get_terminal_size()\n",
    "sz"
   ]
  },
  {
   "cell_type": "code",
   "execution_count": 25,
   "metadata": {},
   "outputs": [
    {
     "data": {
      "text/plain": [
       "120"
      ]
     },
     "execution_count": 25,
     "metadata": {},
     "output_type": "execute_result"
    }
   ],
   "source": [
    "sz.columns"
   ]
  },
  {
   "cell_type": "code",
   "execution_count": 26,
   "metadata": {},
   "outputs": [
    {
     "data": {
      "text/plain": [
       "30"
      ]
     },
     "execution_count": 26,
     "metadata": {},
     "output_type": "execute_result"
    }
   ],
   "source": [
    "sz.lines"
   ]
  },
  {
   "cell_type": "markdown",
   "metadata": {},
   "source": [
    "## Executing an External Command and Getting Its Output"
   ]
  },
  {
   "cell_type": "code",
   "execution_count": 1,
   "metadata": {},
   "outputs": [],
   "source": [
    "import subprocess\n",
    "\n",
    "out_bytes = subprocess.check_output(['dir'])"
   ]
  },
  {
   "cell_type": "code",
   "execution_count": 5,
   "metadata": {},
   "outputs": [
    {
     "name": "stdout",
     "output_type": "stream",
     "text": [
      "b'1\\\\ -\\\\ Data\\\\ Structures\\\\ and\\\\ Algorithms.ipynb\\n10\\\\ -\\\\ Modules\\\\ and\\\\ Packages.ipynb\\n11\\\\ -\\\\ Network\\\\ and\\\\ Web\\\\ Programming.ipynb\\n12\\\\ -\\\\ Concurrency.ipynb\\n13\\\\ -\\\\ Utility\\\\ Scripting\\\\ and\\\\ System\\\\ Administration.ipynb\\n2\\\\ -\\\\ Strings\\\\ and\\\\ Text.ipynb\\n3\\\\ -\\\\ Numbers,\\\\ Dates,\\\\ and\\\\ Times.ipynb\\n4\\\\ -\\\\ Iterators\\\\ and\\\\ Generators.ipynb\\n5\\\\ -\\\\ Files\\\\ and\\\\ IO.ipynb\\n6\\\\ -\\\\ Data\\\\ Encoding\\\\ and\\\\ Processing.ipynb\\n7\\\\ -\\\\ Functions.ipynb\\n8\\\\ -\\\\ Classes\\\\ and\\\\ Objects.ipynb\\n9\\\\ -\\\\ Metaprogramming.ipynb\\nREADME.md\\nbar-package\\nfoo-package\\njalape\\\\303\\\\261o.txt\\nsample.bin\\nsample.txt\\nsearch.py\\nsomefile.bin\\nsomemodule.py\\ntest_data.csv\\ntest_file\\ntest_file.txt\\ntest_folder\\ntest_gzfile.gz\\ntest_json.json\\ntypos.txt\\n'\n"
     ]
    }
   ],
   "source": [
    "print(out_bytes)"
   ]
  },
  {
   "cell_type": "code",
   "execution_count": 8,
   "metadata": {},
   "outputs": [
    {
     "name": "stdout",
     "output_type": "stream",
     "text": [
      "1 - Data Structures and Algorithms.ipynb\n",
      "10 - Modules and Packages.ipynb\n",
      "11 - Network and Web Programming.ipynb\n",
      "12 - Concurrency.ipynb\n",
      "13 - Utility Scripting and System Administration.ipynb\n",
      "2 - Strings and Text.ipynb\n",
      "3 - Numbers, Dates, and Times.ipynb\n",
      "4 - Iterators and Generators.ipynb\n",
      "5 - Files and IO.ipynb\n",
      "6 - Data Encoding and Processing.ipynb\n",
      "7 - Functions.ipynb\n",
      "8 - Classes and Objects.ipynb\n",
      "9 - Metaprogramming.ipynb\n",
      "README.md\n",
      "bar-package\n",
      "foo-package\n",
      "jalape303261o.txt\n",
      "sample.bin\n",
      "sample.txt\n",
      "search.py\n",
      "somefile.bin\n",
      "somemodule.py\n",
      "test_data.csv\n",
      "test_file\n",
      "test_file.txt\n",
      "test_folder\n",
      "test_gzfile.gz\n",
      "test_json.json\n",
      "typos.txt\n",
      "\n"
     ]
    }
   ],
   "source": [
    "out_text = out_bytes.decode('utf-8')\n",
    "print(out_text.replace(\"\\\\\", \"\"))"
   ]
  },
  {
   "cell_type": "markdown",
   "metadata": {},
   "source": [
    "## Copying or Moving Files and Directories"
   ]
  },
  {
   "cell_type": "code",
   "execution_count": null,
   "metadata": {},
   "outputs": [],
   "source": [
    "import shutil\n",
    "\n",
    "# copy src to dst. (cp src dst)\n",
    "shutil.copy(src, dst)\n",
    "\n",
    "# copy files, but preserve metadata (cp -p src dst)\n",
    "shutil.copy2(src, dst)\n",
    "\n",
    "# copy directory tree (cp -R src dst)\n",
    "shutil.copytree(src, dst)\n",
    "\n",
    "# move src to dst (mv src dst)\n",
    "shutil.move(src, dst)\n"
   ]
  },
  {
   "cell_type": "markdown",
   "metadata": {},
   "source": [
    "## Creating and Unpacking Archives\n",
    "You need to create or unpack archives in common formats (e.g., .tar, .tgz, or .zip). The [shutil module](https://docs.python.org/3/library/shutil.html) has two functions - make_archive() and unpack_archive()."
   ]
  },
  {
   "cell_type": "markdown",
   "metadata": {},
   "source": [
    "## Finding Files by Name"
   ]
  },
  {
   "cell_type": "code",
   "execution_count": null,
   "metadata": {},
   "outputs": [],
   "source": []
  }
 ],
 "metadata": {
  "@webio": {
   "lastCommId": null,
   "lastKernelId": null
  },
  "kernelspec": {
   "display_name": "py36",
   "language": "python",
   "name": "py36"
  },
  "language_info": {
   "codemirror_mode": {
    "name": "ipython",
    "version": 3
   },
   "file_extension": ".py",
   "mimetype": "text/x-python",
   "name": "python",
   "nbconvert_exporter": "python",
   "pygments_lexer": "ipython3",
   "version": "3.6.6"
  }
 },
 "nbformat": 4,
 "nbformat_minor": 2
}
