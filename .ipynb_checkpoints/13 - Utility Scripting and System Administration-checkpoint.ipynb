{
 "cells": [
  {
   "cell_type": "markdown",
   "metadata": {},
   "source": [
    "# 13 - Utility Scripting and System Administration"
   ]
  },
  {
   "cell_type": "markdown",
   "metadata": {},
   "source": [
    "##  Parsing Command-Line Options\n"
   ]
  },
  {
   "cell_type": "code",
   "execution_count": 4,
   "metadata": {},
   "outputs": [],
   "source": [
    "code = \"\"\"\n",
    "import argparse\n",
    "\n",
    "parser = argparse.ArgumentParser(description='Search some files')\n",
    "\n",
    "parser.add_argument(dest='filenames',metavar='filename', nargs='*')\n",
    "\n",
    "parser.add_argument('-p', '--pat',metavar='pattern', required=True, \n",
    "                          dest='patterns', action='append',\n",
    "                          help='text pattern to search for')\n",
    "\n",
    "parser.add_argument('-v', dest='verbose', action='store_true', help='verbose mode')\n",
    "\n",
    "parser.add_argument('-o', dest='outfile', action='store', help='output file')\n",
    "\n",
    "parser.add_argument('--speed', dest='speed', action='store',\n",
    "                               choices={'slow','fast'}, default='slow',\n",
    "                               help='search speed')\n",
    "\n",
    "args = parser.parse_args()\n",
    "\n",
    "print(args.filenames)\n",
    "print(args.patterns)\n",
    "print(args.verbose)\n",
    "print(args.outfile)\n",
    "print(args.speed)\n",
    "\"\"\"\n",
    "\n",
    "file_name = \"search.py\"\n",
    "\n",
    "with open(file_name, \"w\") as target_file:\n",
    "    target_file.write(code)\n"
   ]
  },
  {
   "cell_type": "code",
   "execution_count": 5,
   "metadata": {},
   "outputs": [
    {
     "name": "stdout",
     "output_type": "stream",
     "text": [
      "usage: search.py [-h] -p pattern [-v] [-o OUTFILE] [--speed {slow,fast}]\n",
      "                 [filename [filename ...]]\n",
      "\n",
      "Search some files\n",
      "\n",
      "positional arguments:\n",
      "  filename\n",
      "\n",
      "optional arguments:\n",
      "  -h, --help            show this help message and exit\n",
      "  -p pattern, --pat pattern\n",
      "                        text pattern to search for\n",
      "  -v                    verbose mode\n",
      "  -o OUTFILE            output file\n",
      "  --speed {slow,fast}   search speed\n"
     ]
    }
   ],
   "source": [
    "! python search.py -h"
   ]
  },
  {
   "cell_type": "markdown",
   "metadata": {},
   "source": [
    "The argparse module is one of the largest modules in the standard library, and has a huge number of configuration options."
   ]
  },
  {
   "cell_type": "markdown",
   "metadata": {},
   "source": [
    "## Prompting for a Password at Runtime"
   ]
  },
  {
   "cell_type": "code",
   "execution_count": null,
   "metadata": {},
   "outputs": [],
   "source": []
  }
 ],
 "metadata": {
  "kernelspec": {
   "display_name": "py36",
   "language": "python",
   "name": "py36"
  },
  "language_info": {
   "codemirror_mode": {
    "name": "ipython",
    "version": 3
   },
   "file_extension": ".py",
   "mimetype": "text/x-python",
   "name": "python",
   "nbconvert_exporter": "python",
   "pygments_lexer": "ipython3",
   "version": "3.6.6"
  }
 },
 "nbformat": 4,
 "nbformat_minor": 2
}
