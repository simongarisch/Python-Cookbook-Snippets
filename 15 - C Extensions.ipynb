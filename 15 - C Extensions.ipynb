{
 "cells": [
  {
   "cell_type": "markdown",
   "metadata": {},
   "source": [
    "# 15 - C Extensions\n",
    "Many of Python's built-in libraries are written in C, and accessing C is an important part of making Python talk to existing libraries.\n",
    "\n",
    "Although Python provides an extensive C programming API, there are actually many different approaches for dealing with C."
   ]
  },
  {
   "cell_type": "code",
   "execution_count": 2,
   "metadata": {},
   "outputs": [],
   "source": [
    "code = \"\"\"\n",
    "\n",
    "#include <math.h>\n",
    "\n",
    "\n",
    "/* Compute the greatest common divisor */\n",
    "int gcd(int x, int y) {\n",
    " int g = y;\n",
    " while (x > 0) {\n",
    " g = x;\n",
    " x = y % x;\n",
    " y = g;\n",
    " }\n",
    " return g;\n",
    "}\n",
    "\n",
    "\n",
    "/* Test if (x0,y0) is in the Mandelbrot set or not */\n",
    "int in_mandel(double x0, double y0, int n) {\n",
    " double x=0,y=0,xtemp;\n",
    " while (n > 0) {\n",
    " xtemp = x*x - y*y + x0;\n",
    " y = 2*x*y + y0;\n",
    " x = xtemp;\n",
    " n -= 1;\n",
    " if (x*x + y*y > 4) return 0;\n",
    " }\n",
    " return 1;\n",
    "}\n",
    "\n",
    "\n",
    "/* Divide two numbers */\n",
    "int divide(int a, int b, int *remainder) {\n",
    " int quot = a / b;\n",
    " *remainder = a % b;\n",
    " return quot;\n",
    "}\n",
    "\n",
    "\n",
    "/* Average values in an array */\n",
    "double avg(double *a, int n) {\n",
    " int i;\n",
    " double total = 0.0;\n",
    " for (i = 0; i < n; i++) {\n",
    " total += a[i];\n",
    " }\n",
    " return total / n;\n",
    "}\n",
    "\n",
    "\n",
    "/* A C data structure */\n",
    "typedef struct Point {\n",
    " double x,y;\n",
    "} Point;\n",
    "/* Function involving a C data structure */\n",
    "double distance(Point *p1, Point *p2) {\n",
    " return hypot(p1->x - p2->x, p1->y - p2->y);\n",
    "}\n",
    "\n",
    "\"\"\""
   ]
  },
  {
   "cell_type": "code",
   "execution_count": 3,
   "metadata": {},
   "outputs": [],
   "source": [
    "file_name = \"sample.c\"\n",
    "with open (file_name, \"w\") as target_file:\n",
    "    target_file.write(code)\n"
   ]
  },
  {
   "cell_type": "code",
   "execution_count": 4,
   "metadata": {},
   "outputs": [
    {
     "data": {
      "text/plain": [
       "True"
      ]
     },
     "execution_count": 4,
     "metadata": {},
     "output_type": "execute_result"
    }
   ],
   "source": [
    "import os\n",
    "\n",
    "os.path.isfile(file_name)"
   ]
  },
  {
   "cell_type": "markdown",
   "metadata": {},
   "source": [
    "## Accessing C Code Using ctypes\n",
    "Download https://sourceforge.net/projects/mingw-w64/\n",
    "\n",
    "Choose x86_64 in architecture\n"
   ]
  },
  {
   "cell_type": "code",
   "execution_count": 6,
   "metadata": {},
   "outputs": [],
   "source": [
    "! C:\\\"Program Files\"\\mingw-w64\\x86_64-8.1.0-posix-seh-rt_v6-rev0\\mingw64\\bin\\gcc -m64 -fpic -c sample.c -o sample.o"
   ]
  },
  {
   "cell_type": "code",
   "execution_count": 7,
   "metadata": {},
   "outputs": [],
   "source": [
    "! C:\\\"Program Files\"\\mingw-w64\\x86_64-8.1.0-posix-seh-rt_v6-rev0\\mingw64\\bin\\gcc -shared -o libsample.so sample.o"
   ]
  },
  {
   "cell_type": "code",
   "execution_count": 9,
   "metadata": {},
   "outputs": [
    {
     "data": {
      "text/plain": [
       "True"
      ]
     },
     "execution_count": 9,
     "metadata": {},
     "output_type": "execute_result"
    }
   ],
   "source": [
    "import os\n",
    "\n",
    "os.path.isfile(\"libsample.so\")"
   ]
  },
  {
   "cell_type": "code",
   "execution_count": 11,
   "metadata": {},
   "outputs": [],
   "source": [
    "import ctypes\n",
    "\n",
    "libsample = ctypes.cdll.LoadLibrary(\"libsample.so\")"
   ]
  },
  {
   "cell_type": "code",
   "execution_count": 14,
   "metadata": {},
   "outputs": [
    {
     "data": {
      "text/plain": [
       "3"
      ]
     },
     "execution_count": 14,
     "metadata": {},
     "output_type": "execute_result"
    }
   ],
   "source": [
    "libsample.gcd(6, 9)"
   ]
  },
  {
   "cell_type": "markdown",
   "metadata": {},
   "source": [
    "This works for basic functions like gcd, but what about those which require pointers, arrays, structs ..."
   ]
  },
  {
   "cell_type": "code",
   "execution_count": 16,
   "metadata": {},
   "outputs": [],
   "source": [
    "# sample.py\n",
    "\n",
    "import ctypes\n",
    "import os\n",
    "\n",
    "_file = 'libsample.so'\n",
    "_path = _file\n",
    "_mod = ctypes.cdll.LoadLibrary(_path)\n",
    "\n",
    "# int gcd(int, int)\n",
    "gcd = _mod.gcd\n",
    "gcd.argtypes = (ctypes.c_int, ctypes.c_int)\n",
    "gcd.restype = ctypes.c_int\n",
    "\n",
    "# int in_mandel(double, double, int)\n",
    "in_mandel = _mod.in_mandel\n",
    "in_mandel.argtypes = (ctypes.c_double, ctypes.c_double, ctypes.c_int)\n",
    "in_mandel.restype = ctypes.c_int\n",
    "\n",
    "# int divide(int, int, int *)\n",
    "_divide = _mod.divide\n",
    "_divide.argtypes = (ctypes.c_int, ctypes.c_int, ctypes.POINTER(ctypes.c_int))\n",
    "_divide.restype = ctypes.c_int\n",
    "\n",
    "def divide(x, y):\n",
    "    rem = ctypes.c_int()\n",
    "    quot = _divide(x, y, rem)\n",
    "    return quot,rem.value\n",
    "\n",
    "# void avg(double *, int n)\n",
    "# Define a special type for the 'double *' argument\n",
    "class DoubleArrayType:\n",
    "    def from_param(self, param):\n",
    "        typename = type(param).__name__\n",
    "        if hasattr(self, 'from_' + typename):\n",
    "            return getattr(self, 'from_' + typename)(param)\n",
    "        elif isinstance(param, ctypes.Array):\n",
    "            return param\n",
    "        else:\n",
    "            raise TypeError(\"Can't convert %s\" % typename)\n",
    " \n",
    "    # Cast from array.array objects\n",
    "    def from_array(self, param):\n",
    "        if param.typecode != 'd':\n",
    "            raise TypeError('must be an array of doubles')\n",
    "        ptr, _ = param.buffer_info()\n",
    "        return ctypes.cast(ptr, ctypes.POINTER(ctypes.c_double))\n",
    " \n",
    "    # Cast from lists/tuples\n",
    "    def from_list(self, param):\n",
    "        val = ((ctypes.c_double)*len(param))(*param)\n",
    "        return val\n",
    "\n",
    "    from_tuple = from_list\n",
    " \n",
    "    # Cast from a numpy array\n",
    "    def from_ndarray(self, param):\n",
    "        return param.ctypes.data_as(ctypes.POINTER(ctypes.c_double))\n",
    "\n",
    "\n",
    "DoubleArray = DoubleArrayType()\n",
    "_avg = _mod.avg\n",
    "_avg.argtypes = (DoubleArray, ctypes.c_int)\n",
    "_avg.restype = ctypes.c_double\n",
    "def avg(values):\n",
    "    return _avg(values, len(values))\n",
    "\n",
    "\n",
    "# struct Point { }\n",
    "class Point(ctypes.Structure):\n",
    "    _fields_ = [('x', ctypes.c_double), ('y', ctypes.c_double)]\n",
    "\n",
    "\n",
    "# double distance(Point *, Point *)\n",
    "distance = _mod.distance\n",
    "distance.argtypes = (ctypes.POINTER(Point), ctypes.POINTER(Point))\n",
    "distance.restype = ctypes.c_double"
   ]
  },
  {
   "cell_type": "markdown",
   "metadata": {},
   "source": [
    "So lets test this..."
   ]
  },
  {
   "cell_type": "code",
   "execution_count": 17,
   "metadata": {},
   "outputs": [
    {
     "data": {
      "text/plain": [
       "7"
      ]
     },
     "execution_count": 17,
     "metadata": {},
     "output_type": "execute_result"
    }
   ],
   "source": [
    "gcd(35,42)"
   ]
  },
  {
   "cell_type": "code",
   "execution_count": 19,
   "metadata": {},
   "outputs": [
    {
     "data": {
      "text/plain": [
       "1"
      ]
     },
     "execution_count": 19,
     "metadata": {},
     "output_type": "execute_result"
    }
   ],
   "source": [
    "in_mandel(0,0,500)"
   ]
  },
  {
   "cell_type": "code",
   "execution_count": 20,
   "metadata": {},
   "outputs": [
    {
     "data": {
      "text/plain": [
       "0"
      ]
     },
     "execution_count": 20,
     "metadata": {},
     "output_type": "execute_result"
    }
   ],
   "source": [
    "in_mandel(2.0,1.0,500)"
   ]
  },
  {
   "cell_type": "code",
   "execution_count": 21,
   "metadata": {},
   "outputs": [
    {
     "data": {
      "text/plain": [
       "(5, 2)"
      ]
     },
     "execution_count": 21,
     "metadata": {},
     "output_type": "execute_result"
    }
   ],
   "source": [
    "divide(42,8)"
   ]
  },
  {
   "cell_type": "code",
   "execution_count": 23,
   "metadata": {},
   "outputs": [
    {
     "data": {
      "text/plain": [
       "2.0"
      ]
     },
     "execution_count": 23,
     "metadata": {},
     "output_type": "execute_result"
    }
   ],
   "source": [
    "avg([1,2,3])"
   ]
  },
  {
   "cell_type": "code",
   "execution_count": 24,
   "metadata": {},
   "outputs": [
    {
     "data": {
      "text/plain": [
       "4.242640687119285"
      ]
     },
     "execution_count": 24,
     "metadata": {},
     "output_type": "execute_result"
    }
   ],
   "source": [
    "p1 = Point(1,2)\n",
    "p2 = Point(4,5)\n",
    "distance(p1,p2)"
   ]
  },
  {
   "cell_type": "markdown",
   "metadata": {},
   "source": [
    "## Writing a Simple C Extension Module"
   ]
  },
  {
   "cell_type": "code",
   "execution_count": null,
   "metadata": {},
   "outputs": [],
   "source": []
  }
 ],
 "metadata": {
  "kernelspec": {
   "display_name": "py36",
   "language": "python",
   "name": "py36"
  },
  "language_info": {
   "codemirror_mode": {
    "name": "ipython",
    "version": 3
   },
   "file_extension": ".py",
   "mimetype": "text/x-python",
   "name": "python",
   "nbconvert_exporter": "python",
   "pygments_lexer": "ipython3",
   "version": "3.6.6"
  }
 },
 "nbformat": 4,
 "nbformat_minor": 2
}
