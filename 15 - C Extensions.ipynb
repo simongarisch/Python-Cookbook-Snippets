{
 "cells": [
  {
   "cell_type": "markdown",
   "metadata": {},
   "source": [
    "# 15 - C Extensions\n",
    "Many of Python's built-in libraries are written in C, and accessing C is an important part of making Python talk to existing libraries.\n",
    "\n",
    "Although Python provides an extensive C programming API, there are actually many different approaches for dealing with C."
   ]
  },
  {
   "cell_type": "code",
   "execution_count": 1,
   "metadata": {},
   "outputs": [],
   "source": [
    "code = \"\"\"\n",
    "\n",
    "#include <math.h>\n",
    "\n",
    "\n",
    "/* Compute the greatest common divisor */\n",
    "int gcd(int x, int y) {\n",
    " int g = y;\n",
    " while (x > 0) {\n",
    " g = x;\n",
    " x = y % x;\n",
    " y = g;\n",
    " }\n",
    " return g;\n",
    "}\n",
    "\n",
    "\n",
    "/* Test if (x0,y0) is in the Mandelbrot set or not */\n",
    "int in_mandel(double x0, double y0, int n) {\n",
    " double x=0,y=0,xtemp;\n",
    " while (n > 0) {\n",
    " xtemp = x*x - y*y + x0;\n",
    " y = 2*x*y + y0;\n",
    " x = xtemp;\n",
    " n -= 1;\n",
    " if (x*x + y*y > 4) return 0;\n",
    " }\n",
    " return 1;\n",
    "}\n",
    "\n",
    "\n",
    "/* Divide two numbers */\n",
    "int divide(int a, int b, int *remainder) {\n",
    " int quot = a / b;\n",
    " *remainder = a % b;\n",
    " return quot;\n",
    "}\n",
    "\n",
    "\n",
    "/* Average values in an array */\n",
    "double avg(double *a, int n) {\n",
    " int i;\n",
    " double total = 0.0;\n",
    " for (i = 0; i < n; i++) {\n",
    " total += a[i];\n",
    " }\n",
    " return total / n;\n",
    "}\n",
    "\n",
    "\n",
    "/* A C data structure */\n",
    "typedef struct Point {\n",
    " double x,y;\n",
    "} Point;\n",
    "/* Function involving a C data structure */\n",
    "double distance(Point *p1, Point *p2) {\n",
    " return hypot(p1->x - p2->x, p1->y - p2->y);\n",
    "}\n",
    "\n",
    "\"\"\""
   ]
  },
  {
   "cell_type": "markdown",
   "metadata": {},
   "source": [
    "## Accessing C Code Using ctypes\n",
    "Download https://sourceforge.net/projects/mingw-w64/\n",
    "\n",
    "Choose x86_64 in architecture\n"
   ]
  },
  {
   "cell_type": "code",
   "execution_count": null,
   "metadata": {},
   "outputs": [],
   "source": []
  }
 ],
 "metadata": {
  "kernelspec": {
   "display_name": "py36",
   "language": "python",
   "name": "py36"
  },
  "language_info": {
   "codemirror_mode": {
    "name": "ipython",
    "version": 3
   },
   "file_extension": ".py",
   "mimetype": "text/x-python",
   "name": "python",
   "nbconvert_exporter": "python",
   "pygments_lexer": "ipython3",
   "version": "3.6.6"
  }
 },
 "nbformat": 4,
 "nbformat_minor": 2
}
