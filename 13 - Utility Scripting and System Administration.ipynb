{
 "cells": [
  {
   "cell_type": "markdown",
   "metadata": {},
   "source": [
    "# 13 - Utility Scripting and System Administration"
   ]
  },
  {
   "cell_type": "markdown",
   "metadata": {},
   "source": [
    "##  Parsing Command-Line Options\n"
   ]
  },
  {
   "cell_type": "code",
   "execution_count": 4,
   "metadata": {},
   "outputs": [],
   "source": [
    "code = \"\"\"\n",
    "import argparse\n",
    "\n",
    "parser = argparse.ArgumentParser(description='Search some files')\n",
    "\n",
    "parser.add_argument(dest='filenames',metavar='filename', nargs='*')\n",
    "\n",
    "parser.add_argument('-p', '--pat',metavar='pattern', required=True, \n",
    "                          dest='patterns', action='append',\n",
    "                          help='text pattern to search for')\n",
    "\n",
    "parser.add_argument('-v', dest='verbose', action='store_true', help='verbose mode')\n",
    "\n",
    "parser.add_argument('-o', dest='outfile', action='store', help='output file')\n",
    "\n",
    "parser.add_argument('--speed', dest='speed', action='store',\n",
    "                               choices={'slow','fast'}, default='slow',\n",
    "                               help='search speed')\n",
    "\n",
    "args = parser.parse_args()\n",
    "\n",
    "print(args.filenames)\n",
    "print(args.patterns)\n",
    "print(args.verbose)\n",
    "print(args.outfile)\n",
    "print(args.speed)\n",
    "\"\"\"\n",
    "\n",
    "file_name = \"search.py\"\n",
    "\n",
    "with open(file_name, \"w\") as target_file:\n",
    "    target_file.write(code)\n"
   ]
  },
  {
   "cell_type": "code",
   "execution_count": 5,
   "metadata": {},
   "outputs": [
    {
     "name": "stdout",
     "output_type": "stream",
     "text": [
      "usage: search.py [-h] -p pattern [-v] [-o OUTFILE] [--speed {slow,fast}]\n",
      "                 [filename [filename ...]]\n",
      "\n",
      "Search some files\n",
      "\n",
      "positional arguments:\n",
      "  filename\n",
      "\n",
      "optional arguments:\n",
      "  -h, --help            show this help message and exit\n",
      "  -p pattern, --pat pattern\n",
      "                        text pattern to search for\n",
      "  -v                    verbose mode\n",
      "  -o OUTFILE            output file\n",
      "  --speed {slow,fast}   search speed\n"
     ]
    }
   ],
   "source": [
    "! python search.py -h"
   ]
  },
  {
   "cell_type": "markdown",
   "metadata": {},
   "source": [
    "The argparse module is one of the largest modules in the standard library, and has a huge number of configuration options."
   ]
  },
  {
   "cell_type": "markdown",
   "metadata": {},
   "source": [
    "## Prompting for a Password at Runtime\n",
    "Python’s getpass module is precisely what you need in this situation."
   ]
  },
  {
   "cell_type": "code",
   "execution_count": 22,
   "metadata": {},
   "outputs": [
    {
     "name": "stdout",
     "output_type": "stream",
     "text": [
      "········\n",
      "Boo!\n"
     ]
    }
   ],
   "source": [
    "import getpass\n",
    "user = getpass.getuser()\n",
    "passwd = getpass.getpass()\n",
    "\n",
    "\n",
    "def svc_login(user, passwd):\n",
    "    if user == \"Simon\" and passwd==\"myStrongPassword\":\n",
    "        return True\n",
    "    else:\n",
    "        return False\n",
    "\n",
    "if svc_login(user, passwd): # You must write svc_login()\n",
    "    print('Yay!')\n",
    "else:\n",
    "    print('Boo!')\n"
   ]
  },
  {
   "cell_type": "markdown",
   "metadata": {},
   "source": [
    "The username is already populated for you, but the password has to be entered."
   ]
  },
  {
   "cell_type": "code",
   "execution_count": 18,
   "metadata": {},
   "outputs": [
    {
     "name": "stdout",
     "output_type": "stream",
     "text": [
      "You entered: simon.garisch\n"
     ]
    }
   ],
   "source": [
    "import getpass\n",
    "\n",
    "u = getpass.getuser()\n",
    "print('You entered:', u)"
   ]
  },
  {
   "cell_type": "code",
   "execution_count": 20,
   "metadata": {},
   "outputs": [
    {
     "name": "stdout",
     "output_type": "stream",
     "text": [
      "········\n",
      "You entered: myStrongPassword\n"
     ]
    }
   ],
   "source": [
    "import getpass\n",
    "\n",
    "p = getpass.getpass()\n",
    "print('You entered:', p)"
   ]
  },
  {
   "cell_type": "markdown",
   "metadata": {},
   "source": [
    "## Getting the Terminal Size\n"
   ]
  },
  {
   "cell_type": "code",
   "execution_count": 24,
   "metadata": {},
   "outputs": [
    {
     "data": {
      "text/plain": [
       "os.terminal_size(columns=120, lines=30)"
      ]
     },
     "execution_count": 24,
     "metadata": {},
     "output_type": "execute_result"
    }
   ],
   "source": [
    "import os\n",
    "\n",
    "sz = os.get_terminal_size()\n",
    "sz"
   ]
  },
  {
   "cell_type": "code",
   "execution_count": 25,
   "metadata": {},
   "outputs": [
    {
     "data": {
      "text/plain": [
       "120"
      ]
     },
     "execution_count": 25,
     "metadata": {},
     "output_type": "execute_result"
    }
   ],
   "source": [
    "sz.columns"
   ]
  },
  {
   "cell_type": "code",
   "execution_count": 26,
   "metadata": {},
   "outputs": [
    {
     "data": {
      "text/plain": [
       "30"
      ]
     },
     "execution_count": 26,
     "metadata": {},
     "output_type": "execute_result"
    }
   ],
   "source": [
    "sz.lines"
   ]
  },
  {
   "cell_type": "markdown",
   "metadata": {},
   "source": [
    "## Executing an External Command and Getting Its Output"
   ]
  },
  {
   "cell_type": "code",
   "execution_count": 1,
   "metadata": {},
   "outputs": [],
   "source": [
    "import subprocess\n",
    "\n",
    "out_bytes = subprocess.check_output(['dir'])"
   ]
  },
  {
   "cell_type": "code",
   "execution_count": 5,
   "metadata": {},
   "outputs": [
    {
     "name": "stdout",
     "output_type": "stream",
     "text": [
      "b'1\\\\ -\\\\ Data\\\\ Structures\\\\ and\\\\ Algorithms.ipynb\\n10\\\\ -\\\\ Modules\\\\ and\\\\ Packages.ipynb\\n11\\\\ -\\\\ Network\\\\ and\\\\ Web\\\\ Programming.ipynb\\n12\\\\ -\\\\ Concurrency.ipynb\\n13\\\\ -\\\\ Utility\\\\ Scripting\\\\ and\\\\ System\\\\ Administration.ipynb\\n2\\\\ -\\\\ Strings\\\\ and\\\\ Text.ipynb\\n3\\\\ -\\\\ Numbers,\\\\ Dates,\\\\ and\\\\ Times.ipynb\\n4\\\\ -\\\\ Iterators\\\\ and\\\\ Generators.ipynb\\n5\\\\ -\\\\ Files\\\\ and\\\\ IO.ipynb\\n6\\\\ -\\\\ Data\\\\ Encoding\\\\ and\\\\ Processing.ipynb\\n7\\\\ -\\\\ Functions.ipynb\\n8\\\\ -\\\\ Classes\\\\ and\\\\ Objects.ipynb\\n9\\\\ -\\\\ Metaprogramming.ipynb\\nREADME.md\\nbar-package\\nfoo-package\\njalape\\\\303\\\\261o.txt\\nsample.bin\\nsample.txt\\nsearch.py\\nsomefile.bin\\nsomemodule.py\\ntest_data.csv\\ntest_file\\ntest_file.txt\\ntest_folder\\ntest_gzfile.gz\\ntest_json.json\\ntypos.txt\\n'\n"
     ]
    }
   ],
   "source": [
    "print(out_bytes)"
   ]
  },
  {
   "cell_type": "code",
   "execution_count": 8,
   "metadata": {},
   "outputs": [
    {
     "name": "stdout",
     "output_type": "stream",
     "text": [
      "1 - Data Structures and Algorithms.ipynb\n",
      "10 - Modules and Packages.ipynb\n",
      "11 - Network and Web Programming.ipynb\n",
      "12 - Concurrency.ipynb\n",
      "13 - Utility Scripting and System Administration.ipynb\n",
      "2 - Strings and Text.ipynb\n",
      "3 - Numbers, Dates, and Times.ipynb\n",
      "4 - Iterators and Generators.ipynb\n",
      "5 - Files and IO.ipynb\n",
      "6 - Data Encoding and Processing.ipynb\n",
      "7 - Functions.ipynb\n",
      "8 - Classes and Objects.ipynb\n",
      "9 - Metaprogramming.ipynb\n",
      "README.md\n",
      "bar-package\n",
      "foo-package\n",
      "jalape303261o.txt\n",
      "sample.bin\n",
      "sample.txt\n",
      "search.py\n",
      "somefile.bin\n",
      "somemodule.py\n",
      "test_data.csv\n",
      "test_file\n",
      "test_file.txt\n",
      "test_folder\n",
      "test_gzfile.gz\n",
      "test_json.json\n",
      "typos.txt\n",
      "\n"
     ]
    }
   ],
   "source": [
    "out_text = out_bytes.decode('utf-8')\n",
    "print(out_text.replace(\"\\\\\", \"\"))"
   ]
  },
  {
   "cell_type": "markdown",
   "metadata": {},
   "source": [
    "## Copying or Moving Files and Directories"
   ]
  },
  {
   "cell_type": "code",
   "execution_count": null,
   "metadata": {},
   "outputs": [],
   "source": [
    "import shutil\n",
    "\n",
    "# copy src to dst. (cp src dst)\n",
    "shutil.copy(src, dst)\n",
    "\n",
    "# copy files, but preserve metadata (cp -p src dst)\n",
    "shutil.copy2(src, dst)\n",
    "\n",
    "# copy directory tree (cp -R src dst)\n",
    "shutil.copytree(src, dst)\n",
    "\n",
    "# move src to dst (mv src dst)\n",
    "shutil.move(src, dst)\n"
   ]
  },
  {
   "cell_type": "markdown",
   "metadata": {},
   "source": [
    "## Creating and Unpacking Archives\n",
    "You need to create or unpack archives in common formats (e.g., .tar, .tgz, or .zip). The [shutil module](https://docs.python.org/3/library/shutil.html) has two functions - make_archive() and unpack_archive()."
   ]
  },
  {
   "cell_type": "markdown",
   "metadata": {},
   "source": [
    "## Finding Files by Name"
   ]
  },
  {
   "cell_type": "code",
   "execution_count": 12,
   "metadata": {},
   "outputs": [
    {
     "name": "stdout",
     "output_type": "stream",
     "text": [
      "C:\\Users\\simon.garisch\\Desktop\\git\\Python-Cookbook-Snippets\\sample.txt\n"
     ]
    }
   ],
   "source": [
    "import os\n",
    "\n",
    "def findfile(start, name):\n",
    "    for relpath, dirs, files in os.walk(start):\n",
    "        if name in files:\n",
    "            full_path = os.path.join(start, relpath, name)\n",
    "            print(os.path.normpath(os.path.abspath(full_path)))\n",
    "\n",
    "findfile(\".\", \"sample.txt\")"
   ]
  },
  {
   "cell_type": "markdown",
   "metadata": {},
   "source": [
    "## Reading Configuration Files"
   ]
  },
  {
   "cell_type": "code",
   "execution_count": 13,
   "metadata": {},
   "outputs": [],
   "source": [
    "contents= \"\"\"\n",
    "[installation]\n",
    "library=%(prefix)s/lib\n",
    "include=%(prefix)s/include\n",
    "bin=%(prefix)s/bin\n",
    "prefix=/usr/local\n",
    "# Setting related to debug configuration\n",
    "[debug]\n",
    "log_errors=true\n",
    "show_warnings=False\n",
    "[server]\n",
    "port: 8080\n",
    "nworkers: 32\n",
    "pid-file=/tmp/spam.pid\n",
    "root=/www/root\n",
    "\"\"\"\n",
    "\n",
    "file_name = \"config.ini\"\n",
    "\n",
    "with open(file_name, \"w\") as target_file:\n",
    "    target_file.write(contents)\n"
   ]
  },
  {
   "cell_type": "code",
   "execution_count": 14,
   "metadata": {},
   "outputs": [
    {
     "data": {
      "text/plain": [
       "['config.ini']"
      ]
     },
     "execution_count": 14,
     "metadata": {},
     "output_type": "execute_result"
    }
   ],
   "source": [
    "from configparser import ConfigParser\n",
    "\n",
    "cfg = ConfigParser()\n",
    "cfg.read('config.ini')"
   ]
  },
  {
   "cell_type": "code",
   "execution_count": 15,
   "metadata": {},
   "outputs": [
    {
     "data": {
      "text/plain": [
       "['installation', 'debug', 'server']"
      ]
     },
     "execution_count": 15,
     "metadata": {},
     "output_type": "execute_result"
    }
   ],
   "source": [
    "cfg.sections()"
   ]
  },
  {
   "cell_type": "code",
   "execution_count": 17,
   "metadata": {},
   "outputs": [
    {
     "data": {
      "text/plain": [
       "'/usr/local/lib'"
      ]
     },
     "execution_count": 17,
     "metadata": {},
     "output_type": "execute_result"
    }
   ],
   "source": [
    "cfg.get('installation', 'library')"
   ]
  },
  {
   "cell_type": "code",
   "execution_count": 18,
   "metadata": {},
   "outputs": [
    {
     "data": {
      "text/plain": [
       "True"
      ]
     },
     "execution_count": 18,
     "metadata": {},
     "output_type": "execute_result"
    }
   ],
   "source": [
    "cfg.getboolean('debug','log_errors')"
   ]
  },
  {
   "cell_type": "markdown",
   "metadata": {},
   "source": [
    "From the [docs](https://docs.python.org/3/library/configparser.html)."
   ]
  },
  {
   "cell_type": "code",
   "execution_count": 19,
   "metadata": {},
   "outputs": [],
   "source": [
    "import configparser\n",
    "\n",
    "config = configparser.RawConfigParser()\n",
    "\n",
    "config.add_section('Section1')\n",
    "config.set('Section1', 'an_int', '15')\n",
    "config.set('Section1', 'a_bool', 'true')\n",
    "config.set('Section1', 'a_float', '3.1415')\n",
    "config.set('Section1', 'baz', 'fun')\n",
    "config.set('Section1', 'bar', 'Python')\n",
    "config.set('Section1', 'foo', '%(bar)s is %(baz)s!')\n",
    "\n",
    "# Writing our configuration file to 'example.cfg'\n",
    "with open('example.cfg', 'w') as configfile:\n",
    "    config.write(configfile)\n"
   ]
  },
  {
   "cell_type": "code",
   "execution_count": 20,
   "metadata": {},
   "outputs": [
    {
     "name": "stdout",
     "output_type": "stream",
     "text": [
      "18.1415\n",
      "%(bar)s is %(baz)s!\n"
     ]
    }
   ],
   "source": [
    "import configparser\n",
    "\n",
    "config = configparser.RawConfigParser()\n",
    "config.read('example.cfg')\n",
    "\n",
    "# getfloat() raises an exception if the value is not a float\n",
    "# getint() and getboolean() also do this for their respective types\n",
    "a_float = config.getfloat('Section1', 'a_float')\n",
    "an_int = config.getint('Section1', 'an_int')\n",
    "print(a_float + an_int)\n",
    "\n",
    "# Notice that the next output does not interpolate '%(bar)s' or '%(baz)s'.\n",
    "# This is because we are using a RawConfigParser().\n",
    "if config.getboolean('Section1', 'a_bool'):\n",
    "    print(config.get('Section1', 'foo'))\n"
   ]
  },
  {
   "cell_type": "markdown",
   "metadata": {},
   "source": [
    "## Adding Logging to Simple Scripts"
   ]
  },
  {
   "cell_type": "code",
   "execution_count": 22,
   "metadata": {},
   "outputs": [],
   "source": [
    "import logging\n",
    "\n",
    "def main():\n",
    "    # configure the logging system\n",
    "    logging.basicConfig(\n",
    "        filename='app.log',\n",
    "        level=logging.ERROR\n",
    "    )\n",
    " \n",
    "    # variables (to make the calls that follow work)\n",
    "    hostname = 'www.python.org'\n",
    "    item = 'spam'\n",
    "    filename = 'data.csv'\n",
    "    mode = 'r'\n",
    "\n",
    "    # Example logging calls (insert into your program)\n",
    "    logging.critical('Host %s unknown', hostname)\n",
    "    logging.error(\"Couldn't find %r\", item)\n",
    "    logging.warning('Feature is deprecated')\n",
    "    logging.info('Opening file %r, mode=%r', filename, mode)\n",
    "    logging.debug('Got here')\n",
    "\n",
    "\n",
    "main()"
   ]
  },
  {
   "cell_type": "code",
   "execution_count": 23,
   "metadata": {},
   "outputs": [
    {
     "name": "stdout",
     "output_type": "stream",
     "text": [
      "CRITICAL:root:Host www.python.org unknown\n",
      "ERROR:root:Couldn't find 'spam'\n",
      "\n"
     ]
    }
   ],
   "source": [
    "with open(\"app.log\", \"r\") as target_file:\n",
    "    print(target_file.read())"
   ]
  },
  {
   "cell_type": "markdown",
   "metadata": {},
   "source": [
    "It must be emphasized that this recipe only shows a basic use of the logging module. There are significantly more advanced customizations that can be made. An excellent resource for such customization is the ['Logging Cookbook'](https://docs.python.org/3/howto/logging-cookbook.html)."
   ]
  },
  {
   "cell_type": "markdown",
   "metadata": {},
   "source": [
    "## Adding Logging to Libraries\n",
    "No logging needs to happen from the outset..."
   ]
  },
  {
   "cell_type": "code",
   "execution_count": 2,
   "metadata": {},
   "outputs": [],
   "source": [
    "import logging\n",
    "log = logging.getLogger(__name__)\n",
    "log.addHandler(logging.NullHandler())\n",
    "\n",
    "# example function (for testing)\n",
    "def func():\n",
    "    log.critical('A Critical Error!')\n",
    "    log.debug('A debug message')\n"
   ]
  },
  {
   "cell_type": "code",
   "execution_count": 3,
   "metadata": {},
   "outputs": [],
   "source": [
    "func()"
   ]
  },
  {
   "cell_type": "markdown",
   "metadata": {},
   "source": [
    "But once we configure logging this will start to fire."
   ]
  },
  {
   "cell_type": "code",
   "execution_count": 4,
   "metadata": {},
   "outputs": [
    {
     "name": "stderr",
     "output_type": "stream",
     "text": [
      "CRITICAL:__main__:A Critical Error!\n"
     ]
    }
   ],
   "source": [
    "import logging\n",
    "logging.basicConfig()\n",
    "func()"
   ]
  },
  {
   "cell_type": "markdown",
   "metadata": {},
   "source": [
    "## Making a Stopwatch Timer"
   ]
  },
  {
   "cell_type": "code",
   "execution_count": 7,
   "metadata": {},
   "outputs": [],
   "source": [
    "import time\n",
    "\n",
    "class Timer:\n",
    "    def __init__(self, func=time.perf_counter):\n",
    "        self.elapsed = 0.0\n",
    "        self._func = func\n",
    "        self._start = None\n",
    " \n",
    "    def start(self):\n",
    "        if self._start is not None:\n",
    "            raise RuntimeError('Already started')\n",
    "        self._start = self._func()\n",
    " \n",
    "    def stop(self):\n",
    "        if self._start is None:\n",
    "            raise RuntimeError('Not started')\n",
    "        end = self._func()\n",
    "        self.elapsed += end - self._start\n",
    "        self._start = None\n",
    "        \n",
    "    def reset(self):\n",
    "        self.elapsed = 0.0\n",
    " \n",
    "    @property\n",
    "    def running(self):\n",
    "        return self._start is not None\n",
    " \n",
    "    def __enter__(self):\n",
    "        self.start()\n",
    "        return self\n",
    "    \n",
    "    def __exit__(self, *args):\n",
    "        self.stop()\n"
   ]
  },
  {
   "cell_type": "code",
   "execution_count": 11,
   "metadata": {},
   "outputs": [
    {
     "name": "stdout",
     "output_type": "stream",
     "text": [
      "0.04027110000000178\n"
     ]
    }
   ],
   "source": [
    "def countdown(n):\n",
    "    while n > 0:\n",
    "        n -= 1\n",
    "\n",
    "# use 1: Explicit start/stop\n",
    "t = Timer()\n",
    "t.start()\n",
    "countdown(1000000)\n",
    "t.stop()\n",
    "\n",
    "print(t.elapsed)"
   ]
  },
  {
   "cell_type": "code",
   "execution_count": 12,
   "metadata": {},
   "outputs": [
    {
     "name": "stdout",
     "output_type": "stream",
     "text": [
      "0.08192160000000115\n"
     ]
    }
   ],
   "source": [
    "# use 2: As a context manager\n",
    "with t:\n",
    "    countdown(1000000)\n",
    "\n",
    "print(t.elapsed)"
   ]
  },
  {
   "cell_type": "code",
   "execution_count": 13,
   "metadata": {},
   "outputs": [
    {
     "name": "stdout",
     "output_type": "stream",
     "text": [
      "0.03916889999999995\n"
     ]
    }
   ],
   "source": [
    "with Timer() as t2:\n",
    "    countdown(1000000)\n",
    "\n",
    "print(t2.elapsed)"
   ]
  },
  {
   "cell_type": "markdown",
   "metadata": {},
   "source": [
    "## Putting Limits on Memory and CPU Usage\n",
    "The [resource module](https://docs.python.org/3/library/resource.html) can be used to perform both tasks. Purpose: Manage the system resource limits for a Unix program.\n",
    "\n",
    "Note that resource is a Unix specific package and will raise an error if imported in Windows."
   ]
  },
  {
   "cell_type": "code",
   "execution_count": null,
   "metadata": {},
   "outputs": [],
   "source": [
    "import signal\n",
    "import resource\n",
    "import os\n",
    "\n",
    "def time_exceeded(signo, frame):\n",
    "    print(\"Time's up!\")\n",
    "    raise SystemExit(1)\n",
    "\n",
    "def set_max_runtime(seconds):\n",
    "    # install the signal handler and set a resource limit\n",
    "    soft, hard = resource.getrlimit(resource.RLIMIT_CPU)\n",
    "    resource.setrlimit(resource.RLIMIT_CPU, (seconds, hard))\n",
    "    signal.signal(signal.SIGXCPU, time_exceeded)\n",
    "\n",
    "if __name__ == '__main__':\n",
    "    set_max_runtime(15)\n",
    "    while True:\n",
    "        pass\n"
   ]
  },
  {
   "cell_type": "markdown",
   "metadata": {},
   "source": [
    "##  Launching a Web Browser\n"
   ]
  },
  {
   "cell_type": "code",
   "execution_count": 19,
   "metadata": {},
   "outputs": [
    {
     "data": {
      "text/plain": [
       "True"
      ]
     },
     "execution_count": 19,
     "metadata": {},
     "output_type": "execute_result"
    }
   ],
   "source": [
    "import webbrowser\n",
    "\n",
    "webbrowser.open('http://www.python.org')"
   ]
  },
  {
   "cell_type": "markdown",
   "metadata": {},
   "source": [
    "***"
   ]
  }
 ],
 "metadata": {
  "@webio": {
   "lastCommId": null,
   "lastKernelId": null
  },
  "kernelspec": {
   "display_name": "py36",
   "language": "python",
   "name": "py36"
  },
  "language_info": {
   "codemirror_mode": {
    "name": "ipython",
    "version": 3
   },
   "file_extension": ".py",
   "mimetype": "text/x-python",
   "name": "python",
   "nbconvert_exporter": "python",
   "pygments_lexer": "ipython3",
   "version": "3.6.6"
  }
 },
 "nbformat": 4,
 "nbformat_minor": 2
}
