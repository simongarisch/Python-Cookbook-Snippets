{
 "cells": [
  {
   "cell_type": "markdown",
   "metadata": {},
   "source": [
    "# 10 - Modules and Packages"
   ]
  },
  {
   "cell_type": "markdown",
   "metadata": {},
   "source": [
    "## Making a Hierarchical Package of Modules\n",
    "Making a package structure is simple. Just organize your code as you wish on the filesystem and make sure that every directory defines an __init__.py file."
   ]
  },
  {
   "cell_type": "markdown",
   "metadata": {},
   "source": [
    "## Controlling the Import of Everything\n",
    "You want precise control when the user goes import *.\n",
    "\n",
    "Define a variable __all__ in your module that explicitly lists the exported names."
   ]
  },
  {
   "cell_type": "code",
   "execution_count": 1,
   "metadata": {},
   "outputs": [],
   "source": [
    "import os\n",
    "\n",
    "code = '''\n",
    "def spam():\n",
    "    pass\n",
    "\n",
    "def grok():\n",
    "    pass\n",
    "\n",
    "blah = 42\n",
    "\n",
    "# Only export 'spam' and 'grok'\n",
    "__all__ = ['spam', 'grok']\n",
    "\n",
    "'''\n",
    "\n",
    "file_name = \"somemodule.py\"\n",
    "with open(file_name, \"w\") as target_file:\n",
    "    target_file.write(code)\n"
   ]
  },
  {
   "cell_type": "code",
   "execution_count": 3,
   "metadata": {},
   "outputs": [
    {
     "name": "stdout",
     "output_type": "stream",
     "text": [
      "\r\n",
      "def spam():\r\n",
      "    pass\r\n",
      "\r\n",
      "def grok():\r\n",
      "    pass\r\n",
      "\r\n",
      "blah = 42\r\n",
      "\r\n",
      "# Only export 'spam' and 'grok'\r\n",
      "__all__ = ['spam', 'grok']\r\n",
      "\r\n"
     ]
    }
   ],
   "source": [
    "%%bash\n",
    "\n",
    "cat somemodule.py"
   ]
  },
  {
   "cell_type": "code",
   "execution_count": 10,
   "metadata": {},
   "outputs": [
    {
     "data": {
      "text/plain": [
       "True"
      ]
     },
     "execution_count": 10,
     "metadata": {},
     "output_type": "execute_result"
    }
   ],
   "source": [
    "from somemodule import *\n",
    "\n",
    "\"spam\" in globals() and \"grok\" in globals()"
   ]
  },
  {
   "cell_type": "code",
   "execution_count": 11,
   "metadata": {},
   "outputs": [
    {
     "data": {
      "text/plain": [
       "False"
      ]
     },
     "execution_count": 11,
     "metadata": {},
     "output_type": "execute_result"
    }
   ],
   "source": [
    "\"blah\" in globals()"
   ]
  },
  {
   "cell_type": "code",
   "execution_count": 12,
   "metadata": {},
   "outputs": [
    {
     "data": {
      "text/plain": [
       "True"
      ]
     },
     "execution_count": 12,
     "metadata": {},
     "output_type": "execute_result"
    }
   ],
   "source": [
    "import somemodule as sm\n",
    "\n",
    "\"blah\" in vars(sm)"
   ]
  },
  {
   "cell_type": "markdown",
   "metadata": {},
   "source": [
    "So by using __all__ we prevent blah from entering globals."
   ]
  },
  {
   "cell_type": "markdown",
   "metadata": {},
   "source": [
    "## Importing Package Submodules Using Relative Names"
   ]
  },
  {
   "cell_type": "code",
   "execution_count": null,
   "metadata": {},
   "outputs": [],
   "source": [
    "# mypackage/A/spam.py\n",
    "\n",
    "from mypackage.A import grok # OK\n",
    "from . import grok           # OK\n",
    "import grok                  # Error (not found)\n"
   ]
  },
  {
   "cell_type": "markdown",
   "metadata": {},
   "source": [
    "The downside of using an absolute name, such as mypackage.A, is that it hardcodes the top-level package name into your source code. If you ever changed the name of the package, you would have to go through all of your files and fix the source code.\n",
    "\n",
    "The . and .. syntax on the import statement might look funny, but think of it as specifying a directory name. . means look in the current directory and ..B means look in the ../B directory."
   ]
  },
  {
   "cell_type": "markdown",
   "metadata": {},
   "source": [
    "## Splitting a Module into Multiple Files\n",
    "A program module can be split into separate files by turning it into a package."
   ]
  },
  {
   "cell_type": "markdown",
   "metadata": {},
   "source": [
    "## Making Separate Directories of Code Import Under a Common Namespace\n",
    "\n",
    "Instead of having each part installed as a separated named package, you would like all of the parts to join together under a common package prefix.\n",
    "\n",
    "You would like to define a top-level Python package that serves as a namespace for a large collection of separately maintained subpackages.\n"
   ]
  },
  {
   "cell_type": "code",
   "execution_count": 1,
   "metadata": {},
   "outputs": [],
   "source": [
    "setup = '''\n",
    "foo-package/\n",
    "    spam/\n",
    "        blah.py\n",
    " \n",
    "bar-package/\n",
    "    spam/\n",
    "        grok.py\n",
    "'''"
   ]
  },
  {
   "cell_type": "code",
   "execution_count": 2,
   "metadata": {},
   "outputs": [],
   "source": [
    "import os\n",
    "\n",
    "def create_file(file_path, contents):\n",
    "    dire_name = os.path.dirname(file_path)\n",
    "    if not os.path.exists(dire_name):\n",
    "        os.makedirs(dire_name)\n",
    "\n",
    "    with open(file_path, \"w\") as target_file:\n",
    "        target_file.write(contents)\n",
    "\n",
    "        \n",
    "spam_file = os.path.join(\"foo-package\", \"spam\", \"blah.py\")\n",
    "spam_contents = \"a = 1\"\n",
    "create_file(spam_file, spam_contents)\n",
    "\n",
    "grok_file = os.path.join(\"bar-package\", \"spam\", \"grok.py\")\n",
    "grok_contents = \"a = 2\"\n",
    "create_file(grok_file, grok_contents)\n"
   ]
  },
  {
   "cell_type": "markdown",
   "metadata": {},
   "source": [
    "Observe that there is no __init__.py file in either directory. Now watch what happens if you add both foo-package and bar-package to the Python module path and try some imports:"
   ]
  },
  {
   "cell_type": "code",
   "execution_count": 3,
   "metadata": {},
   "outputs": [],
   "source": [
    "import sys\n",
    "sys.path.extend(['foo-package', 'bar-package'])\n",
    "import spam.blah\n",
    "import spam.grok"
   ]
  },
  {
   "cell_type": "code",
   "execution_count": 6,
   "metadata": {},
   "outputs": [
    {
     "data": {
      "text/plain": [
       "(1, 2)"
      ]
     },
     "execution_count": 6,
     "metadata": {},
     "output_type": "execute_result"
    }
   ],
   "source": [
    "spam.blah.a, spam.grok.a"
   ]
  },
  {
   "cell_type": "markdown",
   "metadata": {},
   "source": [
    "The mechanism at work here is a feature known as a 'namespace package'. Essentially, a namespace package is a special kind of package designed for merging different directories of code together under a common namespace.\n",
    "\n",
    "The key to making a namespace package is to make sure there are no __init__.py files in the top-level directory that is to serve as the common namespace. The missing __init__.py file causes an interesting thing to happen on package import. Instead of\n",
    "causing an error, the interpreter instead starts creating a list of all directories that happen to contain a matching package name. A special namespace package module is then created and a read-only copy of the list of directories is stored in its __path__ variable."
   ]
  },
  {
   "cell_type": "code",
   "execution_count": 8,
   "metadata": {},
   "outputs": [
    {
     "data": {
      "text/plain": [
       "_NamespacePath(['foo-package\\\\spam', 'bar-package\\\\spam'])"
      ]
     },
     "execution_count": 8,
     "metadata": {},
     "output_type": "execute_result"
    }
   ],
   "source": [
    "import spam\n",
    "spam.__path__"
   ]
  },
  {
   "cell_type": "markdown",
   "metadata": {},
   "source": [
    "## Reloading Modules\n",
    "To reload a previously loaded module, use imp.reload()"
   ]
  },
  {
   "cell_type": "code",
   "execution_count": 12,
   "metadata": {},
   "outputs": [
    {
     "data": {
      "text/plain": [
       "<module 'spam' (namespace)>"
      ]
     },
     "execution_count": 12,
     "metadata": {},
     "output_type": "execute_result"
    }
   ],
   "source": [
    "import spam\n",
    "import imp\n",
    "\n",
    "imp.reload(spam)"
   ]
  },
  {
   "cell_type": "code",
   "execution_count": 13,
   "metadata": {},
   "outputs": [
    {
     "data": {
      "text/plain": [
       "{'imp', 'os', 'spam', 'sys'}"
      ]
     },
     "execution_count": 13,
     "metadata": {},
     "output_type": "execute_result"
    }
   ],
   "source": [
    "import sys\n",
    "\n",
    "set(sys.modules) & set(globals())"
   ]
  },
  {
   "cell_type": "markdown",
   "metadata": {},
   "source": [
    "##  Making a Directory or Zip File Runnable As a Main Script\n",
    "If your application program has grown into multiple files, you can put it into its own directory and add a __main__.py file. If __main__.py is present, you can simply run the Python interpreter on the top-level directory."
   ]
  },
  {
   "cell_type": "markdown",
   "metadata": {},
   "source": [
    "## Reading Datafiles Within a Package\n",
    "\n",
    "The pkgutil.get_data() function is meant to be a high-level tool for getting a datafile regardless of where or how a package has been installed. It will simply 'work' and return the file contents back to you as a byte string. It can get messy working with the __file__ variable.\n"
   ]
  },
  {
   "cell_type": "code",
   "execution_count": null,
   "metadata": {},
   "outputs": [],
   "source": [
    "import pkgutil\n",
    "data = pkgutil.get_data(__package__, 'somedata.dat')"
   ]
  },
  {
   "cell_type": "markdown",
   "metadata": {},
   "source": [
    "## Adding Directories to sys.path\n",
    "You can add them through the use of the PYTHONPATH environment variable. The second approach is to create a .pth file. This .pth file needs to be placed into one of Python’s site-packages directories."
   ]
  },
  {
   "cell_type": "markdown",
   "metadata": {},
   "source": [
    "## Importing Modules Using a Name Given in a String"
   ]
  },
  {
   "cell_type": "code",
   "execution_count": 15,
   "metadata": {},
   "outputs": [
    {
     "data": {
      "text/plain": [
       "0.9092974268256817"
      ]
     },
     "execution_count": 15,
     "metadata": {},
     "output_type": "execute_result"
    }
   ],
   "source": [
    "import importlib\n",
    "\n",
    "math = importlib.import_module('math')\n",
    "math.sin(2)"
   ]
  },
  {
   "cell_type": "code",
   "execution_count": 16,
   "metadata": {},
   "outputs": [],
   "source": [
    "mod = importlib.import_module('urllib.request')\n",
    "u = mod.urlopen('http://www.python.org')"
   ]
  },
  {
   "cell_type": "markdown",
   "metadata": {},
   "source": [
    "## Patching Modules on Import\n",
    "You want to patch or apply decorators to functions in an existing module. However, you only want to do it if the module actually gets imported and used elsewhere."
   ]
  },
  {
   "cell_type": "code",
   "execution_count": null,
   "metadata": {},
   "outputs": [],
   "source": []
  }
 ],
 "metadata": {
  "@webio": {
   "lastCommId": null,
   "lastKernelId": null
  },
  "kernelspec": {
   "display_name": "py36",
   "language": "python",
   "name": "py36"
  },
  "language_info": {
   "codemirror_mode": {
    "name": "ipython",
    "version": 3
   },
   "file_extension": ".py",
   "mimetype": "text/x-python",
   "name": "python",
   "nbconvert_exporter": "python",
   "pygments_lexer": "ipython3",
   "version": "3.6.6"
  }
 },
 "nbformat": 4,
 "nbformat_minor": 2
}
